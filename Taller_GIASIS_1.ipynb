{
  "nbformat": 4,
  "nbformat_minor": 0,
  "metadata": {
    "colab": {
      "provenance": []
    },
    "kernelspec": {
      "name": "python3",
      "display_name": "Python 3"
    },
    "language_info": {
      "name": "python"
    }
  },
  "cells": [
    {
      "cell_type": "markdown",
      "source": [
        "# ¿Cómo trabajar datos sismológicos en cualquier computador?\n",
        "\n",
        "### Bienvenidas y bienvenidos.\n",
        "\n",
        "Este taller consta de 3 modulos:\n",
        "\n",
        "1.   Introducción a python\n",
        "2.   Descargar datos sismologicos usando Obspy\n",
        "3.   Analizar sismogramas\n",
        "\n",
        "Ante cualquier duda o consulta dirigirse a catalina.morales@ucsc.cl\n",
        "\n",
        "Este taller fue creado por Catalina Morales-Yáñez, para que las y los asistentes pueden comprender y trabajar con datos sismologicos. Si necesita usarlo para algún otro fin por favor consulte previamente.\n"
      ],
      "metadata": {
        "id": "DnE0agbguk2x"
      }
    },
    {
      "cell_type": "markdown",
      "source": [
        "# Pequeña y rápida introducción a Python\n",
        "\n",
        "\n",
        "> En este segmento veremos como funciona python. Realizaremos un repaso rápido de algunas de sus principales características.\n",
        "\n"
      ],
      "metadata": {
        "id": "n5hvrh8zuEuz"
      }
    },
    {
      "cell_type": "markdown",
      "source": [
        "## Veamos primero los tipos de datos"
      ],
      "metadata": {
        "id": "wbow1mfWTxH2"
      }
    },
    {
      "cell_type": "code",
      "execution_count": null,
      "metadata": {
        "id": "99NqV_pjUN0B"
      },
      "outputs": [],
      "source": [
        "#string\n",
        "s = 'Hola Mundo'\n",
        "#boleano\n",
        "b = True\n",
        "#entero\n",
        "e = 4\n",
        "#real\n",
        "r = 0.75\n",
        "#complejo\n",
        "c = 1.5 + 1.5j"
      ]
    },
    {
      "cell_type": "code",
      "source": [
        "print('Tipo r \\n',type(r))\n",
        "\n",
        "print('Parte real\\n',c.real,'\\n Parte imaginaria \\n',c.imag)"
      ],
      "metadata": {
        "id": "J2NF2sMQuiQz",
        "colab": {
          "base_uri": "https://localhost:8080/"
        },
        "outputId": "60a64829-8a4e-4e6a-970f-fbdcbad6591c"
      },
      "execution_count": null,
      "outputs": [
        {
          "output_type": "stream",
          "name": "stdout",
          "text": [
            "Tipo r \n",
            " <class 'float'>\n",
            "Parte real\n",
            " 1.5 \n",
            " Parte imaginaria \n",
            " 1.5\n"
          ]
        }
      ]
    },
    {
      "cell_type": "markdown",
      "source": [
        "## Veamos un poco más a fondo los string\n",
        "Los string funcionan como listas (las veremos en unos minutos), y hay ciertos comandos que nos ayudaran para trabajar con este tipo de dato"
      ],
      "metadata": {
        "id": "BWyJqPzYgigd"
      }
    },
    {
      "cell_type": "code",
      "source": [
        "# Definamos un string\n",
        "S = 'Hola Mundo'\n",
        "# Lo entretenido de los string es que podemos usar ciertos comandos como replace\n",
        "S2 = S.replace('o','i',1)\n",
        "print('Creo que ahora no digo lo mismo o ¿si? \\n',S)\n",
        "\n",
        "# Además los string pueden ser \"llamados\"\n",
        "nombre = '007'\n",
        "filename = 'Input_%s.txt'%nombre\n",
        "print('El nombre de tu archivo es',filename)\n",
        "\n",
        "#Pero de igual forma todos los tipos de datos pueden ser usados como string\n",
        "entero   = 7\n",
        "filename = 'Input_%i.txt'%entero\n",
        "print('El nombre de tu archivo es',filename)\n",
        "\n",
        "flotante = 0.07\n",
        "filename = 'Input_%.4f.txt'%flotante\n",
        "print('El nombre de tu archivo es',filename)\n",
        "\n"
      ],
      "metadata": {
        "id": "a3ri4iIP2cku",
        "colab": {
          "base_uri": "https://localhost:8080/"
        },
        "outputId": "70547028-cc3a-4351-f486-cc9d2e0b0009"
      },
      "execution_count": null,
      "outputs": [
        {
          "output_type": "stream",
          "name": "stdout",
          "text": [
            "Creo que ahora no digo lo mismo o ¿si? \n",
            " Hola Mundo\n",
            "El nombre de tu archivo es Input_007.txt\n",
            "El nombre de tu archivo es Input_7.txt\n",
            "El nombre de tu archivo es Input_0.0700.txt\n"
          ]
        }
      ]
    },
    {
      "cell_type": "markdown",
      "source": [
        "## Operaciones matemáticas en python"
      ],
      "metadata": {
        "id": "QFTwacVYUIE4"
      }
    },
    {
      "cell_type": "code",
      "source": [
        "print(' suma =',3+2,'\\n resta =',3-2,'\\n multiplicación =', 3*2,'\\n división =',3/2,'\\n potencia=',3**2)"
      ],
      "metadata": {
        "id": "5fKEUt7F1577",
        "colab": {
          "base_uri": "https://localhost:8080/"
        },
        "outputId": "137da16b-39c3-4db4-ccbc-30c70d01676d"
      },
      "execution_count": null,
      "outputs": [
        {
          "output_type": "stream",
          "name": "stdout",
          "text": [
            " suma = 5 \n",
            " resta = 1 \n",
            " multiplicación = 6 \n",
            " división = 1.5 \n",
            " potencia= 9\n"
          ]
        }
      ]
    },
    {
      "cell_type": "markdown",
      "source": [
        "# Tipos de datos para almacenar colecciones"
      ],
      "metadata": {
        "id": "gsH71lVQUkLl"
      }
    },
    {
      "cell_type": "markdown",
      "source": [
        "## Listas"
      ],
      "metadata": {
        "id": "-XJJ6RbRjWG1"
      }
    },
    {
      "cell_type": "code",
      "source": [
        "#Ejemplo de lista (note que tenemos una lista dentro de una lista)\n",
        "l = [s, b, ['numeros',e, r]]\n",
        "\n",
        "print ('Nuestra lista es ',l)\n",
        "\n",
        "#¿Cómo obtenemos información de esta?\n",
        "print('El primer termino de la tercera posición es ',l[2][0])\n",
        "\n",
        "#Para cambiar información de una lista usamos\n",
        "l[2][0] = 'letras'\n",
        "\n",
        "print ('La nueva lista es ',l)\n"
      ],
      "metadata": {
        "id": "VQISwh5J19zV",
        "colab": {
          "base_uri": "https://localhost:8080/"
        },
        "outputId": "f4e21955-21da-4cf3-bd7b-d3cdd2255d1b"
      },
      "execution_count": null,
      "outputs": [
        {
          "output_type": "stream",
          "name": "stdout",
          "text": [
            "Nuestra lista es  ['Hola Mundo', True, ['numeros', 4, 0.75]]\n",
            "El primer termino de la tercera posición es  numeros\n",
            "La nueva lista es  ['Hola Mundo', True, ['letras', 4, 0.75]]\n"
          ]
        }
      ]
    },
    {
      "cell_type": "markdown",
      "source": [
        "## Tuple"
      ],
      "metadata": {
        "id": "rjPINMBFkfuR"
      }
    },
    {
      "cell_type": "code",
      "source": [
        "#Ejemplo de Tuple (note que tenemos una lista dentro de un Tuple)\n",
        "T = (s, b, ['numeros',e, r])\n",
        "print ('Nuestro Tuple es ',l)\n",
        "\n",
        "#¿Cómo obtenemos información de esta?\n",
        "print('El primer termino de la tercera posición es ',T[2][0])\n",
        "\n",
        "#¿Podemos cambiar un elemento de un Tuple?\n",
        "T[2] = 'letras'\n",
        "print ('La nueva lista es ',T)\n"
      ],
      "metadata": {
        "id": "n_P-3-KM1-Y_",
        "colab": {
          "base_uri": "https://localhost:8080/",
          "height": 273
        },
        "outputId": "deaf68de-b2ad-4181-ea5d-b70cbdce55a2"
      },
      "execution_count": null,
      "outputs": [
        {
          "output_type": "stream",
          "name": "stdout",
          "text": [
            "Nuestro Tuple es  ['Hola Mundo', True, ['letras', 4, 0.75]]\n",
            "El primer termino de la tercera posición es  numeros\n"
          ]
        },
        {
          "output_type": "error",
          "ename": "TypeError",
          "evalue": "ignored",
          "traceback": [
            "\u001b[0;31m---------------------------------------------------------------------------\u001b[0m",
            "\u001b[0;31mTypeError\u001b[0m                                 Traceback (most recent call last)",
            "\u001b[0;32m<ipython-input-60-73d181bee285>\u001b[0m in \u001b[0;36m<cell line: 9>\u001b[0;34m()\u001b[0m\n\u001b[1;32m      7\u001b[0m \u001b[0;34m\u001b[0m\u001b[0m\n\u001b[1;32m      8\u001b[0m \u001b[0;31m#¿Podemos cambiar un elemento de un Tuple?\u001b[0m\u001b[0;34m\u001b[0m\u001b[0;34m\u001b[0m\u001b[0m\n\u001b[0;32m----> 9\u001b[0;31m \u001b[0mT\u001b[0m\u001b[0;34m[\u001b[0m\u001b[0;36m2\u001b[0m\u001b[0;34m]\u001b[0m \u001b[0;34m=\u001b[0m \u001b[0;34m'letras'\u001b[0m\u001b[0;34m\u001b[0m\u001b[0;34m\u001b[0m\u001b[0m\n\u001b[0m\u001b[1;32m     10\u001b[0m \u001b[0mprint\u001b[0m \u001b[0;34m(\u001b[0m\u001b[0;34m'La nueva lista es '\u001b[0m\u001b[0;34m,\u001b[0m\u001b[0mT\u001b[0m\u001b[0;34m)\u001b[0m\u001b[0;34m\u001b[0m\u001b[0;34m\u001b[0m\u001b[0m\n",
            "\u001b[0;31mTypeError\u001b[0m: 'tuple' object does not support item assignment"
          ]
        }
      ]
    },
    {
      "cell_type": "markdown",
      "source": [
        "## Diccionarios"
      ],
      "metadata": {
        "id": "O-RjhHFwlx5o"
      }
    },
    {
      "cell_type": "code",
      "source": [
        "#Creemos un diccionario\n",
        "D = {\"Números\":[1,2,3],\"Color\":'Negro',\"Países\":['Chile','Francia','Japon','Argentina']}\n",
        "print('Mi diccionario es\\n',D,'\\n')\n",
        "\n",
        "# Para sacar información se llama a la clave o key que corresponda\n",
        "print('Por ejemplo los países dentro de mi diccionario son\\n',D['Países'],'\\n')\n",
        "\n",
        "# Si no conozco las claves de mi diccionario escribo\n",
        "print('Llaves de mi diccionario \\n',D.keys(),'\\n')\n",
        "\n",
        "# Si quiero conocer los valores\n",
        "print('Los valores de mi diccionario son\\n',D.values(),'\\n')\n",
        "\n",
        "#Ahora incluso puedo saber si un elemento se encuentra en mi diccionario\n",
        "print('¿Es Color una de mis llaves?\\n','Color' in D)"
      ],
      "metadata": {
        "id": "8lldmJZ82hFx",
        "colab": {
          "base_uri": "https://localhost:8080/"
        },
        "outputId": "edbadc87-a1d6-4c3a-e63d-3c929317b6be"
      },
      "execution_count": null,
      "outputs": [
        {
          "output_type": "stream",
          "name": "stdout",
          "text": [
            "Mi diccionario es\n",
            " {'Números': [1, 2, 3], 'Color': 'Negro', 'Países': ['Chile', 'Francia', 'Japon', 'Argentina']} \n",
            "\n",
            "Por ejemplo los países dentro de mi diccionario son\n",
            " ['Chile', 'Francia', 'Japon', 'Argentina'] \n",
            "\n",
            "Llaves de mi diccionario \n",
            " dict_keys(['Números', 'Color', 'Países']) \n",
            "\n",
            "Los valores de mi diccionario son\n",
            " dict_values([[1, 2, 3], 'Negro', ['Chile', 'Francia', 'Japon', 'Argentina']]) \n",
            "\n",
            "¿Es Color una de mis llaves?\n",
            " True\n"
          ]
        }
      ]
    },
    {
      "cell_type": "markdown",
      "source": [
        "# Desafío\n",
        "\n",
        "## Estudiemos la importancia del **orden**\n",
        "* Creen una lista\n",
        "* Vean donde comienzan los indices, indices negativos que nos dan\n",
        "* Usen \":\" ¿Que sucede?\n",
        "* Interactuen con la lista: encuentren el tercer termino de una palabra dentro de una **lista**"
      ],
      "metadata": {
        "id": "X1qoPJ-d2F-d"
      }
    },
    {
      "cell_type": "code",
      "source": [
        "#Escriba aquí su trabajo"
      ],
      "metadata": {
        "id": "a2Jp_8-mVsLl"
      },
      "execution_count": null,
      "outputs": []
    },
    {
      "cell_type": "markdown",
      "source": [
        "# Operación en las listas"
      ],
      "metadata": {
        "id": "_7dMrElV2LEb"
      }
    },
    {
      "cell_type": "code",
      "source": [
        "import numpy as np\n",
        "\n",
        "#Existen diferentes formas de agregar un item a una lista\n",
        "\n",
        "L1 = ['uno','dos','tres','rojo','verde','azul']\n",
        "\n",
        "# Una opción es crear una lista nueva y agregar un item\n",
        "L2 = np.append(L1,'Gris')\n",
        "print('L2 =',L2)\n",
        "\n",
        "# Otra opción es agregar el item directamente a la lista\n",
        "L3.append('Gris')\n",
        "print('L3 =',L3)\n",
        "\n",
        "#Cambie el orden de este ejemplo y vea que sucede"
      ],
      "metadata": {
        "id": "QjhuE-m22Nye",
        "colab": {
          "base_uri": "https://localhost:8080/",
          "height": 273
        },
        "outputId": "3d1fd500-48f9-4c1f-d5a1-1a24a3e5a5cb"
      },
      "execution_count": null,
      "outputs": [
        {
          "output_type": "stream",
          "name": "stdout",
          "text": [
            "L2 = ['uno' 'dos' 'tres' 'rojo' 'verde' 'azul' 'Gris']\n"
          ]
        },
        {
          "output_type": "error",
          "ename": "AttributeError",
          "evalue": "ignored",
          "traceback": [
            "\u001b[0;31m---------------------------------------------------------------------------\u001b[0m",
            "\u001b[0;31mAttributeError\u001b[0m                            Traceback (most recent call last)",
            "\u001b[0;32m<ipython-input-63-2e0c1e3bd825>\u001b[0m in \u001b[0;36m<cell line: 12>\u001b[0;34m()\u001b[0m\n\u001b[1;32m     10\u001b[0m \u001b[0;34m\u001b[0m\u001b[0m\n\u001b[1;32m     11\u001b[0m \u001b[0;31m# Otra opción es agregar el item directamente a la lista\u001b[0m\u001b[0;34m\u001b[0m\u001b[0;34m\u001b[0m\u001b[0m\n\u001b[0;32m---> 12\u001b[0;31m \u001b[0mL3\u001b[0m\u001b[0;34m.\u001b[0m\u001b[0mappend\u001b[0m\u001b[0;34m(\u001b[0m\u001b[0;34m'Gris'\u001b[0m\u001b[0;34m)\u001b[0m\u001b[0;34m\u001b[0m\u001b[0;34m\u001b[0m\u001b[0m\n\u001b[0m\u001b[1;32m     13\u001b[0m \u001b[0mprint\u001b[0m\u001b[0;34m(\u001b[0m\u001b[0;34m'L3 ='\u001b[0m\u001b[0;34m,\u001b[0m\u001b[0mL3\u001b[0m\u001b[0;34m)\u001b[0m\u001b[0;34m\u001b[0m\u001b[0;34m\u001b[0m\u001b[0m\n\u001b[1;32m     14\u001b[0m \u001b[0;34m\u001b[0m\u001b[0m\n",
            "\u001b[0;31mAttributeError\u001b[0m: 'numpy.ndarray' object has no attribute 'append'"
          ]
        }
      ]
    },
    {
      "cell_type": "markdown",
      "source": [
        "# **Importante: Precauciones al usar python**"
      ],
      "metadata": {
        "id": "XRVlN12fZRVS"
      }
    },
    {
      "cell_type": "code",
      "source": [
        "# Si tengo una lista\n",
        "a = [1,2,3]\n",
        "# Y igualo esta a una nueva variable\n",
        "b = a\n",
        "#Obtendré lo mismo en ambos casos\n",
        "print(a)\n",
        "print(b)"
      ],
      "metadata": {
        "id": "4aC5FU1220UU",
        "colab": {
          "base_uri": "https://localhost:8080/"
        },
        "outputId": "1c49a6a7-d1d8-4731-ffcd-45b1565f32e0"
      },
      "execution_count": null,
      "outputs": [
        {
          "output_type": "stream",
          "name": "stdout",
          "text": [
            "[1, 2, 3]\n",
            "[1, 2, 3]\n"
          ]
        }
      ]
    },
    {
      "cell_type": "code",
      "source": [
        "#Pero que pasa si a la lista a le agrego algo\n",
        "a.append(3)\n",
        "#¿Debería cambiar la lista b?\n",
        "print(b)"
      ],
      "metadata": {
        "id": "8UDPbXKS22Jv",
        "colab": {
          "base_uri": "https://localhost:8080/"
        },
        "outputId": "3c45ec80-311a-46b4-e39b-18761425582f"
      },
      "execution_count": null,
      "outputs": [
        {
          "output_type": "stream",
          "name": "stdout",
          "text": [
            "[1, 2, 3, 3]\n"
          ]
        }
      ]
    },
    {
      "cell_type": "markdown",
      "source": [
        "Al realizar *b=a* no solo estoy igualando los valores si no támbien la dirección de estos en el computador, lo que se conoce como *id*. A esta forma de copiar se le cononce como **shallow copy** o copia superficial."
      ],
      "metadata": {
        "id": "WTP7IvMLZxOP"
      }
    },
    {
      "cell_type": "code",
      "source": [
        "print(id(a),id(b))"
      ],
      "metadata": {
        "id": "R3Gh7luz25rV",
        "colab": {
          "base_uri": "https://localhost:8080/"
        },
        "outputId": "e0f571dd-1afc-4615-dc89-2fc8d3d77d29"
      },
      "execution_count": null,
      "outputs": [
        {
          "output_type": "stream",
          "name": "stdout",
          "text": [
            "135644617213440 135644617213440\n"
          ]
        }
      ]
    },
    {
      "cell_type": "markdown",
      "source": [
        "Para revertir esto podemos en primer lugar evitar copiar variables, pero si es inebitable tenemos que realizar una **deep copy**. Para esto nos podemos ayudar de comandos tales como el modulo **copy**"
      ],
      "metadata": {
        "id": "7fiRcX47aM_p"
      }
    },
    {
      "cell_type": "code",
      "source": [
        "import copy\n",
        "\n",
        "#Provemos el mismo ejemplo anterior\n",
        "a = [1,2,3]\n",
        "# Y igualo esta a una nueva variable pero con deepcopy\n",
        "b = copy.deepcopy(a)\n",
        "#Al igual que el caso anterior agrego algo a la lista original\n",
        "a.append(3)\n",
        "#Veamos los resultados\n",
        "print('a = %s\\n'%a,'b = %s\\n'%b)\n",
        "print('id(a) = %s\\n'%id(a),'id(b) = %s\\n'%id(b))\n",
        "\n"
      ],
      "metadata": {
        "colab": {
          "base_uri": "https://localhost:8080/"
        },
        "id": "9Wk3ZEz7bfSy",
        "outputId": "86c1e0cc-c21f-49bd-dea1-8891bda1fc7c"
      },
      "execution_count": null,
      "outputs": [
        {
          "output_type": "stream",
          "name": "stdout",
          "text": [
            "a = [1, 2, 3, 3]\n",
            " b = [1, 2, 3]\n",
            "\n",
            "id(a) = 135644617015104\n",
            " id(b) = 135644617266048\n",
            "\n"
          ]
        }
      ]
    },
    {
      "cell_type": "markdown",
      "source": [
        "# Continuemos con las operaciones sobre listas\n",
        "\n",
        "\n"
      ],
      "metadata": {
        "id": "N0sg-MjncYJL"
      }
    },
    {
      "cell_type": "code",
      "source": [
        "L = ['uno','dos','tres','rojo','verde','azul']\n",
        "print('Lista original\\n',L,'\\n')\n",
        "\n",
        "# Saca y muestra el último item\n",
        "L_ultimo = L.pop()\n",
        "print('Saca y muestra el último item\\n',L_ultimo,'\\n')\n",
        "\n",
        "#Esto modifica nuestra lista\n",
        "print('La nueva lista será entonces\\n',L,'\\n')\n",
        "\n",
        "#Si queremos agregar más de un elemento a la lista usamos extend\n",
        "L.extend(['Amarillo','mil'])\n",
        "print('La nueva lista será entonces\\n',L,'\\n')\n",
        "\n",
        "#Para invertir una lista usamos reverse\n",
        "L.reverse()\n",
        "print('La nueva lista será entonces\\n',L,'\\n')\n",
        "\n",
        "# Para ordenar una lista uso sort\n",
        "\n",
        "L.sort()\n",
        "print('La nueva lista será entonces\\n',L,'\\n')\n"
      ],
      "metadata": {
        "id": "jCtRUBmL2RFl",
        "colab": {
          "base_uri": "https://localhost:8080/"
        },
        "outputId": "cd298a67-0c02-4e0d-8e7d-e61e0b45e8a6"
      },
      "execution_count": null,
      "outputs": [
        {
          "output_type": "stream",
          "name": "stdout",
          "text": [
            "Lista original\n",
            " ['uno', 'dos', 'tres', 'rojo', 'verde', 'azul'] \n",
            "\n",
            "Saca y muestra el último item\n",
            " azul \n",
            "\n",
            "La nueva lista será entonces\n",
            " ['uno', 'dos', 'tres', 'rojo', 'verde'] \n",
            "\n",
            "La nueva lista será entonces\n",
            " ['uno', 'dos', 'tres', 'rojo', 'verde', 'Amarillo', 'mil'] \n",
            "\n",
            "La nueva lista será entonces\n",
            " ['mil', 'Amarillo', 'verde', 'rojo', 'tres', 'dos', 'uno'] \n",
            "\n",
            "La nueva lista será entonces\n",
            " ['Amarillo', 'dos', 'mil', 'rojo', 'tres', 'uno', 'verde'] \n",
            "\n"
          ]
        }
      ]
    },
    {
      "cell_type": "markdown",
      "source": [
        "# Operaciones matemáticas sobre listas\n"
      ],
      "metadata": {
        "id": "tuLPnn2Ve6gf"
      }
    },
    {
      "cell_type": "code",
      "source": [
        "#¿Que pasa si sumo entre dos listas?\n",
        "LS = L + L\n",
        "print('La suma me entrega\\n',LS,'\\n')\n",
        "\n",
        "#¿Que pasa si multiplico la lista por un número?\n",
        "LM = L*4\n",
        "print('La multiplicación me entrega\\n',LM,'\\n')\n"
      ],
      "metadata": {
        "id": "_hiI5ZDv2ZHg",
        "colab": {
          "base_uri": "https://localhost:8080/"
        },
        "outputId": "c2734771-bc45-41c6-c64b-4ec282fbd032"
      },
      "execution_count": null,
      "outputs": [
        {
          "output_type": "stream",
          "name": "stdout",
          "text": [
            "La suma me entrega\n",
            " ['Amarillo', 'dos', 'mil', 'rojo', 'tres', 'uno', 'verde', 'Amarillo', 'dos', 'mil', 'rojo', 'tres', 'uno', 'verde'] \n",
            "\n",
            "La multiplicación me entrega\n",
            " ['Amarillo', 'dos', 'mil', 'rojo', 'tres', 'uno', 'verde', 'Amarillo', 'dos', 'mil', 'rojo', 'tres', 'uno', 'verde', 'Amarillo', 'dos', 'mil', 'rojo', 'tres', 'uno', 'verde', 'Amarillo', 'dos', 'mil', 'rojo', 'tres', 'uno', 'verde'] \n",
            "\n"
          ]
        }
      ]
    },
    {
      "cell_type": "markdown",
      "source": [
        "# Condicionales"
      ],
      "metadata": {
        "id": "zJmnwGzt28eL"
      }
    },
    {
      "cell_type": "code",
      "source": [
        "if 2**2 == 4:\n",
        "  print('Claramente')"
      ],
      "metadata": {
        "id": "Av01amJ929ss",
        "colab": {
          "base_uri": "https://localhost:8080/"
        },
        "outputId": "6c1b0a96-f5f1-40ce-fe83-6fa894d1a2cd"
      },
      "execution_count": null,
      "outputs": [
        {
          "output_type": "stream",
          "name": "stdout",
          "text": [
            "Claramente\n"
          ]
        }
      ]
    },
    {
      "cell_type": "code",
      "source": [
        "a = 10\n",
        "if a == 1:\n",
        "  print('a es igual a 1')\n",
        "elif a == 2:\n",
        "  print('a es igual a 2')\n",
        "else:\n",
        "  print('a tiene un valor mayor a dos')"
      ],
      "metadata": {
        "id": "0gNteB813ANd",
        "colab": {
          "base_uri": "https://localhost:8080/"
        },
        "outputId": "b9d1e9f2-2071-474f-cc41-b485974e26d8"
      },
      "execution_count": null,
      "outputs": [
        {
          "output_type": "stream",
          "name": "stdout",
          "text": [
            "a tiene un valor mayor a dos\n"
          ]
        }
      ]
    },
    {
      "cell_type": "markdown",
      "source": [
        "# Iteraciones"
      ],
      "metadata": {
        "id": "5_CfIPd9nNZo"
      }
    },
    {
      "cell_type": "markdown",
      "source": [
        "### For\n"
      ],
      "metadata": {
        "id": "SUz_mY6p3C5A"
      }
    },
    {
      "cell_type": "code",
      "source": [
        "for n in range(0,10):\n",
        "  if n > 5:\n",
        "    print('%i es mayor a 5'%n)"
      ],
      "metadata": {
        "id": "jWRmSq3U3Dtw",
        "colab": {
          "base_uri": "https://localhost:8080/"
        },
        "outputId": "aee1a85b-56cd-425d-8232-fc357f0a7144"
      },
      "execution_count": null,
      "outputs": [
        {
          "output_type": "stream",
          "name": "stdout",
          "text": [
            "6 es mayor a 5\n",
            "7 es mayor a 5\n",
            "8 es mayor a 5\n",
            "9 es mayor a 5\n"
          ]
        }
      ]
    },
    {
      "cell_type": "markdown",
      "source": [
        "### While/Break/Continue\n"
      ],
      "metadata": {
        "id": "dS7G3CLm3F5F"
      }
    },
    {
      "cell_type": "code",
      "source": [
        "z = 1\n",
        "while z < 10:\n",
        "  print('Z == %i menor a 10'%z)\n",
        "  z += 1"
      ],
      "metadata": {
        "id": "Z4kPSrjj3JtA",
        "colab": {
          "base_uri": "https://localhost:8080/"
        },
        "outputId": "da9dfeec-01c1-4167-a436-b7ecefe4a899"
      },
      "execution_count": null,
      "outputs": [
        {
          "output_type": "stream",
          "name": "stdout",
          "text": [
            "Z == 1 menor a 10\n",
            "Z == 2 menor a 10\n",
            "Z == 3 menor a 10\n",
            "Z == 4 menor a 10\n",
            "Z == 5 menor a 10\n",
            "Z == 6 menor a 10\n",
            "Z == 7 menor a 10\n",
            "Z == 8 menor a 10\n",
            "Z == 9 menor a 10\n"
          ]
        }
      ]
    },
    {
      "cell_type": "code",
      "source": [
        "z = 1\n",
        "while z < 10:\n",
        "  print('Z == %i menor a 10'%z)\n",
        "  z += 1\n",
        "  if z == 5:\n",
        "    break"
      ],
      "metadata": {
        "id": "tbmrn1Gi3Ms_",
        "colab": {
          "base_uri": "https://localhost:8080/"
        },
        "outputId": "ab9ebec7-14c8-4345-f980-1e66c0007ac6"
      },
      "execution_count": null,
      "outputs": [
        {
          "output_type": "stream",
          "name": "stdout",
          "text": [
            "Z == 1 menor a 10\n",
            "Z == 2 menor a 10\n",
            "Z == 3 menor a 10\n",
            "Z == 4 menor a 10\n"
          ]
        }
      ]
    },
    {
      "cell_type": "code",
      "source": [
        "z = 1\n",
        "while z < 10:\n",
        "  z += 1\n",
        "  if z <= 5: continue\n",
        "  print('Z == %i menor a 10'%z)"
      ],
      "metadata": {
        "id": "gzVvWe6n3OLN",
        "colab": {
          "base_uri": "https://localhost:8080/"
        },
        "outputId": "f9fe246c-86a4-40f1-d972-b568deb60ce7"
      },
      "execution_count": null,
      "outputs": [
        {
          "output_type": "stream",
          "name": "stdout",
          "text": [
            "Z == 6 menor a 10\n",
            "Z == 7 menor a 10\n",
            "Z == 8 menor a 10\n",
            "Z == 9 menor a 10\n",
            "Z == 10 menor a 10\n"
          ]
        }
      ]
    },
    {
      "cell_type": "markdown",
      "source": [
        "# Importar librerias\n",
        "Para trabajar en python es usual que importemos librerias, estas librerias son codigos pre creados para ciertas operaciones"
      ],
      "metadata": {
        "id": "7JMy98lN3P5z"
      }
    },
    {
      "cell_type": "code",
      "metadata": {
        "id": "B9ilkGfClkWd"
      },
      "source": [
        "#Dentro de las librerias que usaran muy seguido tenemos\n",
        "import matplotlib.pyplot as plt\n",
        "import numpy as np"
      ],
      "execution_count": null,
      "outputs": []
    },
    {
      "cell_type": "markdown",
      "source": [
        "Operaciones con numpy"
      ],
      "metadata": {
        "id": "ykFuvWEtnrFG"
      }
    },
    {
      "cell_type": "code",
      "metadata": {
        "id": "ltbj7XRvgPPb",
        "colab": {
          "base_uri": "https://localhost:8080/"
        },
        "outputId": "4ee5e467-97a2-48d0-e4b4-d0fe1835efe4"
      },
      "source": [
        "#Crear vectores de datos\n",
        "x  = np.arange(0,101,5)\n",
        "xx = np.linspace(0,100,50)\n",
        "\n",
        "print('Vector creado usando arange\\n',x,\n",
        "      '\\n Vector creado usando linspace\\n',xx)\n",
        "\n",
        "#Funciones trigonometricas\n",
        "y = np.cos(xx)\n",
        "print(y)"
      ],
      "execution_count": null,
      "outputs": [
        {
          "output_type": "stream",
          "name": "stdout",
          "text": [
            "Vector creado usando arange\n",
            " [  0   5  10  15  20  25  30  35  40  45  50  55  60  65  70  75  80  85\n",
            "  90  95 100] \n",
            " Vector creado usando linspace\n",
            " [  0.           2.04081633   4.08163265   6.12244898   8.16326531\n",
            "  10.20408163  12.24489796  14.28571429  16.32653061  18.36734694\n",
            "  20.40816327  22.44897959  24.48979592  26.53061224  28.57142857\n",
            "  30.6122449   32.65306122  34.69387755  36.73469388  38.7755102\n",
            "  40.81632653  42.85714286  44.89795918  46.93877551  48.97959184\n",
            "  51.02040816  53.06122449  55.10204082  57.14285714  59.18367347\n",
            "  61.2244898   63.26530612  65.30612245  67.34693878  69.3877551\n",
            "  71.42857143  73.46938776  75.51020408  77.55102041  79.59183673\n",
            "  81.63265306  83.67346939  85.71428571  87.75510204  89.79591837\n",
            "  91.83673469  93.87755102  95.91836735  97.95918367 100.        ]\n",
            "[ 1.         -0.45290412 -0.58975572  0.98710971 -0.30437638 -0.71140308\n",
            "  0.94877114 -0.14800163 -0.81471004  0.8859727   0.01218868 -0.89701331\n",
            "  0.80033336  0.17206476 -0.95619103  0.69406095  0.32750491 -0.99071759\n",
            "  0.56989524  0.47450179 -0.99970287  0.4310373   0.60926574 -0.98291522\n",
            "  0.28106696  0.72832245 -0.94078743  0.12385055  0.82860259 -0.8744056\n",
            " -0.0365588   0.90752086 -0.78548106 -0.19602564  0.96304271 -0.67630637\n",
            " -0.35043883  0.99373674 -0.5496961  -0.4958175   0.99881166 -0.40891433\n",
            " -0.6284137   0.97813663 -0.25759052 -0.74480902  0.93224466 -0.09962587\n",
            " -0.84200273  0.86231887]\n"
          ]
        }
      ]
    },
    {
      "cell_type": "markdown",
      "source": [
        "## Uso de Matplotlib"
      ],
      "metadata": {
        "id": "UckdZf5fnwPQ"
      }
    },
    {
      "cell_type": "code",
      "source": [
        "%matplotlib inline\n",
        "\n",
        "plt.figure()\n",
        "plt.plot(xx,y,'ok')\n",
        "plt.show()"
      ],
      "metadata": {
        "id": "jfcztU25foT6",
        "outputId": "ba5bcc52-0704-40b1-9395-a58280930674",
        "colab": {
          "base_uri": "https://localhost:8080/",
          "height": 430
        }
      },
      "execution_count": null,
      "outputs": [
        {
          "output_type": "display_data",
          "data": {
            "text/plain": [
              "<Figure size 640x480 with 1 Axes>"
            ],
            "image/png": "[encoded data removed]"
          },
          "metadata": {}
        }
      ]
    },
    {
      "cell_type": "code",
      "source": [],
      "metadata": {
        "id": "0jXgd-wX2PlB"
      },
      "execution_count": null,
      "outputs": []
    }
  ]
}